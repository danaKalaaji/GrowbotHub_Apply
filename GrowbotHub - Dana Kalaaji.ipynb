{
 "cells": [
  {
   "cell_type": "markdown",
   "metadata": {},
   "source": [
    "# <div style=\"text-align:center\"><span style=\"color:red;\"><span style=\"text-decoration:underline\">**Homework**</span>\n",
    "### <div style=\"text-align:center\"><span style=\"color:pink;\">KALAAJI Dana"
   ]
  },
  {
   "cell_type": "markdown",
   "metadata": {},
   "source": [
    "# Implementation of a class modeling a graph with its vertices and edges.\n",
    "\n",
    "I will represent a vertex by its ID, which will be a number between 0 and n-1, with n being the number of vertices.   \n",
    "I will represent an edge by the two vertices it is connecting.   \n",
    "Even though these graphs can be fully represented by their adjacency list and whether they are directed or not, I decided to add two characteristic to my implementation : the number of vertex and the number of edges they have.\n",
    "An adjacency list is a list that, for each vertex, contains a list of its neighboring vertices.\n",
    "\n",
    "Side notes:  \n",
    "1) If we have a directed graph, by degree of a vertex I mean its *out*-degree.  \n",
    "2) I added two other methods to my implementation:\n",
    "    - One that gives the maximum number of possible edges in the graph\n",
    "    - One that gives the degree of *one* specific vertex\n"
   ]
  },
  {
   "cell_type": "markdown",
   "metadata": {},
   "source": [
    "## Code:"
   ]
  },
  {
   "cell_type": "code",
   "execution_count": 1,
   "metadata": {},
   "outputs": [],
   "source": [
    "import numpy as np\n",
    "\n",
    "class Graph:\n",
    "    \"\"\"Class modeling a graph with its vertices and edges. \"\"\"\n",
    "    \n",
    "    \n",
    "    \n",
    "    def __init__(self, n, directed=True):\n",
    "        \"\"\" Instanciates a graph with a given number of vertices and whether it is directed.\n",
    "        \n",
    "        Parameters:\n",
    "        n (int): number of vertices.\n",
    "        directed (boolean): true (by default) if it is a directed graph, false if it is an undirected graph.\n",
    "        \"\"\"\n",
    "        \n",
    "        assert n>0, \"__init__: n should be greater than 0\"\n",
    "        \n",
    "        self.n = n\n",
    "        self.m = 0   #number of edges in the graph\n",
    "        self.adj_list = [[] for _ in range(n)]  #instanciates the adjacency list\n",
    "        self.directed = directed\n",
    "    \n",
    "      \n",
    "\n",
    "    def max_nb_edges(self):\n",
    "        \"\"\" Returns the maximum number of edges the graph can have\"\"\"\n",
    "        \n",
    "        n = self.n\n",
    "        return n**2 if self.directed else (int)(n*(n-1)/2 + n)\n",
    "    \n",
    "    \n",
    "    \n",
    "    def add_edge(self, u, v):\n",
    "        \"\"\"Adds a given edge to the graph.\n",
    "        \n",
    "        Verifies in the adjacency list if the edge already exists.\n",
    "        If it does then returns false.\n",
    "        If it does not then adds the edge in the graph, updates the adjacency list and returns true.\n",
    "        \n",
    "        Parameters:\n",
    "        u (int): the node that the edge is coming from.\n",
    "        v (int): the node the edge is going to.\n",
    "        \n",
    "        Returns:\n",
    "        boolean: true if the edge was succesfully added, false if the edge already exists.\n",
    "        \"\"\"\n",
    "        \n",
    "        assert 0 <= u and u < self.n, \"add_edge: u should be between 0 and n-1\"\n",
    "        assert 0 <= v and v < self.n, \"add_edge: v should be between 0 and n-1\"\n",
    "        \n",
    "        if v in self.adj_list[u]:   #if it is true, then the edge already exists\n",
    "            return False\n",
    "        \n",
    "        self.adj_list[u].append(v)\n",
    "        self.m += 1\n",
    "        if not self.directed and u != v:   #if the graph is undirected, need to add the edge in both direction is adj_list\n",
    "            self.adj_list[v].append(u)\n",
    "        return True\n",
    "    \n",
    "    \n",
    "    \n",
    "    def add_random_edges(self, nb):\n",
    "        \"\"\" Randomly adds a given number of edges to the graph.\n",
    "        \n",
    "        Before the creation of each edge, verifies if the graph reached the maximum number of possible edges.\n",
    "        If it is the case, returns false.\n",
    "        If not, generates a random edge and verifies if the edge already exists.\n",
    "        If it does not, adds the edge to te graph and repeat for a new edge if needed.\n",
    "        If it does, tries adding a different edge.\n",
    "        \n",
    "        Parameters:\n",
    "        nb (int): the number of edges to be added.\n",
    "        \n",
    "        Returns:\n",
    "        boolean: true if all the edges were succesfully added, false otherwise.\n",
    "        \"\"\"\n",
    "        \n",
    "        assert nb >= 0, \"add_random_edges: nb should be positive\"\n",
    "        \n",
    "        counter = 0  #counts the number of edges added\n",
    "        max_nb_edges = self.max_nb_edges()\n",
    "        \n",
    "        while self.m < max_nb_edges and counter < nb:\n",
    "            (u,v) = np.random.randint(0, self.n, 2)  #generates a random edge\n",
    "            if self.add_edge(u, v) == True:\n",
    "                counter += 1\n",
    "                \n",
    "        return counter == nb\n",
    "    \n",
    "    \n",
    "    \n",
    "    def get_degree(self, vertex_ID):\n",
    "        \"\"\" Returns the degree of a given vertex\n",
    "\n",
    "        Parameter:\n",
    "        vertex_ID (int): the vertex of which we want the degree\n",
    "\n",
    "        Returns:\n",
    "        int: the degree of the vertex\n",
    "        \"\"\"\n",
    "            \n",
    "        assert 0 <= vertex_ID and vertex_ID < self.n, \"get_degrees: vertex_ID should be between 0 and n-1\"\n",
    "        \n",
    "        return len(self.adj_list[vertex_ID])\n",
    "    \n",
    "    \n",
    "    \n",
    "    def get_degrees(self):\n",
    "        \"\"\" Returns a list with pairs (vertex_ID, degree of the vertex) for all vertices in the graph\"\"\"\n",
    "        \n",
    "        return [(vertex_ID, self.get_degree(vertex_ID)) for vertex_ID in range(self.n)]\n",
    "    "
   ]
  },
  {
   "cell_type": "markdown",
   "metadata": {},
   "source": [
    "### Some things that could be added to my implementation:\n",
    "\n",
    "- Using a dictionary instead of a list for the adjacency list to give us the ability to have a vertex ID with other types (string,...).\n",
    "- In the constructor, having an optional parameter `populate_p` (set to 0 by default) that allows us to add each edge to the graph with probability `populate_p`. That way, we can instanciate randomly filled graphs\n"
   ]
  },
  {
   "cell_type": "markdown",
   "metadata": {},
   "source": [
    "## Examples:"
   ]
  },
  {
   "cell_type": "markdown",
   "metadata": {},
   "source": [
    "### Example 1 : Undirected graph with 3 vertices"
   ]
  },
  {
   "cell_type": "code",
   "execution_count": 2,
   "metadata": {},
   "outputs": [
    {
     "name": "stdout",
     "output_type": "stream",
     "text": [
      "We have a graph with 3 vertices\n",
      "Graph is directed: False\n",
      "\n",
      "\n",
      "Succesfully added the edge (1, 2) to the graph: True\n",
      "Here is the adjacency list: [[], [2], [1]]\n",
      "The list is under the form: [[adj_list of vertex 0],..,[adj_list of vertex n-1]]\n",
      "\n",
      "\n",
      "List of all the vertices with their degree: [(0, 0), (1, 1), (2, 1)]\n",
      "The list is under the format: [(vertex 0, degree of vertex 0),...,(vertex n-1, degree of vertex n-1)]\n",
      "Degree of the vertex 2: 1\n",
      "\n",
      "\n",
      "Succesfully added 5 random edges to the graph: True\n",
      "Here is the adjacency list: [[0, 1, 2], [2, 0, 1], [1, 0, 2]]\n",
      "List of all the vertices with their degree: [(0, 3), (1, 3), (2, 3)]\n",
      "\n",
      "\n",
      "We have 6 edges and we can have a maximum of 6 edges\n",
      "Succesfully added 1 random edges to the graph: False\n"
     ]
    }
   ],
   "source": [
    "graph = Graph(3, directed=False)\n",
    "print(\"We have a graph with\", graph.n, \"vertices\")\n",
    "print(\"Graph is directed:\", graph.directed)\n",
    "print(\"\\n\")\n",
    "\n",
    "print(\"Succesfully added the edge (1, 2) to the graph:\", graph.add_edge(1, 2))\n",
    "print(\"Here is the adjacency list:\", graph.adj_list)\n",
    "print(\"The list is under the form: [[adj_list of vertex 0],..,[adj_list of vertex n-1]]\")\n",
    "print(\"\\n\")\n",
    "\n",
    "print(\"List of all the vertices with their degree:\", graph.get_degrees())\n",
    "print(\"The list is under the format: [(vertex 0, degree of vertex 0),...,(vertex n-1, degree of vertex n-1)]\")\n",
    "print(\"Degree of the vertex 2:\", graph.get_degree(2))\n",
    "print(\"\\n\")\n",
    "\n",
    "print(\"Succesfully added 5 random edges to the graph:\", graph.add_random_edges(5))\n",
    "print(\"Here is the adjacency list:\", graph.adj_list)\n",
    "print(\"List of all the vertices with their degree:\", graph.get_degrees())\n",
    "print(\"\\n\")\n",
    "\n",
    "\n",
    "print(\"We have\", graph.m, \"edges and we can have a maximum of\", graph.max_nb_edges(), \"edges\")\n",
    "print(\"Succesfully added 1 random edges to the graph:\", graph.add_random_edges(1))\n"
   ]
  },
  {
   "cell_type": "markdown",
   "metadata": {},
   "source": [
    "### Example 2 : Directed graph with 3 vertices"
   ]
  },
  {
   "cell_type": "code",
   "execution_count": 3,
   "metadata": {},
   "outputs": [
    {
     "name": "stdout",
     "output_type": "stream",
     "text": [
      "We have a graph with 3 vertices\n",
      "Graph is directed: True\n",
      "List of all the vertices with their degree: [(0, 0), (1, 0), (2, 0)]\n",
      "\n",
      "\n",
      "Succesfully added the edge (1, 2) to the graph: True\n",
      "Here is the adjacency list: [[], [2], []]\n",
      "List of all the vertices with their degree: [(0, 0), (1, 1), (2, 0)]\n",
      "Degree of the vertex 2: 0\n",
      "\n",
      "\n",
      "Succesfully added 5 random edges to the graph: True\n",
      "Here is the adjacency list: [[1, 2], [2, 0, 1], [2]]\n",
      "List of all the vertices with their degree: [(0, 2), (1, 3), (2, 1)]\n",
      "\n",
      "\n",
      "We have 6 edges and we can have a maximum of 9 edges\n",
      "Succesfully added 1 random edges to the graph: True\n"
     ]
    }
   ],
   "source": [
    "graph = Graph(3, directed=True)\n",
    "print(\"We have a graph with\", graph.n, \"vertices\")\n",
    "print(\"Graph is directed:\", graph.directed)\n",
    "print(\"List of all the vertices with their degree:\", graph.get_degrees())\n",
    "print(\"\\n\")\n",
    "\n",
    "print(\"Succesfully added the edge (1, 2) to the graph:\", graph.add_edge(1, 2))\n",
    "print(\"Here is the adjacency list:\", graph.adj_list)\n",
    "print(\"List of all the vertices with their degree:\", graph.get_degrees())\n",
    "print(\"Degree of the vertex 2:\", graph.get_degree(2))\n",
    "print(\"\\n\")\n",
    "\n",
    "print(\"Succesfully added 5 random edges to the graph:\", graph.add_random_edges(5))\n",
    "print(\"Here is the adjacency list:\", graph.adj_list)\n",
    "print(\"List of all the vertices with their degree:\", graph.get_degrees())\n",
    "print(\"\\n\")\n",
    "\n",
    "print(\"We have\", graph.m, \"edges and we can have a maximum of\", graph.max_nb_edges(), \"edges\")\n",
    "print(\"Succesfully added 1 random edges to the graph:\", graph.add_random_edges(1))\n"
   ]
  },
  {
   "cell_type": "markdown",
   "metadata": {},
   "source": [
    "### Example 3 : Graph with invalid parameters"
   ]
  },
  {
   "cell_type": "code",
   "execution_count": 4,
   "metadata": {},
   "outputs": [
    {
     "name": "stdout",
     "output_type": "stream",
     "text": [
      "Instanciating a graph with n = -5 vertices should throw an AssertionError \n"
     ]
    },
    {
     "ename": "AssertionError",
     "evalue": "__init__: n should be greater than 0",
     "output_type": "error",
     "traceback": [
      "\u001b[1;31m---------------------------------------------------------------------------\u001b[0m",
      "\u001b[1;31mAssertionError\u001b[0m                            Traceback (most recent call last)",
      "\u001b[1;32m<ipython-input-4-534f573c17b8>\u001b[0m in \u001b[0;36m<module>\u001b[1;34m\u001b[0m\n\u001b[0;32m      1\u001b[0m \u001b[0mprint\u001b[0m\u001b[1;33m(\u001b[0m\u001b[1;34m\"Instanciating a graph with n = -5 vertices should throw an AssertionError \"\u001b[0m\u001b[1;33m)\u001b[0m\u001b[1;33m\u001b[0m\u001b[1;33m\u001b[0m\u001b[0m\n\u001b[1;32m----> 2\u001b[1;33m \u001b[0mgraph\u001b[0m \u001b[1;33m=\u001b[0m \u001b[0mGraph\u001b[0m\u001b[1;33m(\u001b[0m\u001b[1;33m-\u001b[0m\u001b[1;36m5\u001b[0m\u001b[1;33m)\u001b[0m\u001b[1;33m\u001b[0m\u001b[1;33m\u001b[0m\u001b[0m\n\u001b[0m",
      "\u001b[1;32m<ipython-input-1-7a3e07433aeb>\u001b[0m in \u001b[0;36m__init__\u001b[1;34m(self, n, directed)\u001b[0m\n\u001b[0;32m     14\u001b[0m         \"\"\"\n\u001b[0;32m     15\u001b[0m \u001b[1;33m\u001b[0m\u001b[0m\n\u001b[1;32m---> 16\u001b[1;33m         \u001b[1;32massert\u001b[0m \u001b[0mn\u001b[0m\u001b[1;33m>\u001b[0m\u001b[1;36m0\u001b[0m\u001b[1;33m,\u001b[0m \u001b[1;34m\"__init__: n should be greater than 0\"\u001b[0m\u001b[1;33m\u001b[0m\u001b[1;33m\u001b[0m\u001b[0m\n\u001b[0m\u001b[0;32m     17\u001b[0m \u001b[1;33m\u001b[0m\u001b[0m\n\u001b[0;32m     18\u001b[0m         \u001b[0mself\u001b[0m\u001b[1;33m.\u001b[0m\u001b[0mn\u001b[0m \u001b[1;33m=\u001b[0m \u001b[0mn\u001b[0m\u001b[1;33m\u001b[0m\u001b[1;33m\u001b[0m\u001b[0m\n",
      "\u001b[1;31mAssertionError\u001b[0m: __init__: n should be greater than 0"
     ]
    }
   ],
   "source": [
    "print(\"Instanciating a graph with n = -5 vertices should throw an AssertionError \")\n",
    "graph = Graph(-5)"
   ]
  }
 ],
 "metadata": {
  "kernelspec": {
   "display_name": "Python 3",
   "language": "python",
   "name": "python3"
  },
  "language_info": {
   "codemirror_mode": {
    "name": "ipython",
    "version": 3
   },
   "file_extension": ".py",
   "mimetype": "text/x-python",
   "name": "python",
   "nbconvert_exporter": "python",
   "pygments_lexer": "ipython3",
   "version": "3.7.3"
  }
 },
 "nbformat": 4,
 "nbformat_minor": 2
}
